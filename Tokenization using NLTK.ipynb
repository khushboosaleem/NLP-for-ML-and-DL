{
 "cells": [
  {
   "cell_type": "code",
   "execution_count": 1,
   "id": "a0015e1f",
   "metadata": {},
   "outputs": [
    {
     "name": "stdout",
     "output_type": "stream",
     "text": [
      "Requirement already satisfied: nltk in c:\\users\\khuboo\\anaconda3\\lib\\site-packages (3.7)\n",
      "Requirement already satisfied: click in c:\\users\\khuboo\\anaconda3\\lib\\site-packages (from nltk) (8.0.4)\n",
      "Requirement already satisfied: regex>=2021.8.3 in c:\\users\\khuboo\\anaconda3\\lib\\site-packages (from nltk) (2022.3.15)\n",
      "Requirement already satisfied: tqdm in c:\\users\\khuboo\\anaconda3\\lib\\site-packages (from nltk) (4.64.0)\n",
      "Requirement already satisfied: joblib in c:\\users\\khuboo\\anaconda3\\lib\\site-packages (from nltk) (1.1.0)\n",
      "Requirement already satisfied: colorama in c:\\users\\khuboo\\anaconda3\\lib\\site-packages (from click->nltk) (0.4.4)\n"
     ]
    },
    {
     "name": "stderr",
     "output_type": "stream",
     "text": [
      "[nltk_data] Downloading package punkt to\n",
      "[nltk_data]     C:\\Users\\khuboo\\AppData\\Roaming\\nltk_data...\n",
      "[nltk_data]   Unzipping tokenizers\\punkt.zip.\n"
     ]
    },
    {
     "data": {
      "text/plain": [
       "True"
      ]
     },
     "execution_count": 1,
     "metadata": {},
     "output_type": "execute_result"
    }
   ],
   "source": [
    "!pip install nltk\n",
    "import nltk\n",
    "nltk.download('punkt')"
   ]
  },
  {
   "cell_type": "code",
   "execution_count": 2,
   "id": "b93c6154",
   "metadata": {},
   "outputs": [],
   "source": [
    "corpus = \"\"\"he future of data science will revolutionize industries with AI and machine learning, driving innovation, efficiency, and better decision-making across various sectors.    \"\"\""
   ]
  },
  {
   "cell_type": "code",
   "execution_count": 3,
   "id": "11caa5a2",
   "metadata": {},
   "outputs": [
    {
     "name": "stdout",
     "output_type": "stream",
     "text": [
      "he future of data science will revolutionize industries with AI and machine learning, driving innovation, efficiency, and better decision-making across various sectors.    \n"
     ]
    }
   ],
   "source": [
    "print(corpus)"
   ]
  },
  {
   "cell_type": "code",
   "execution_count": 4,
   "id": "d0dede2f",
   "metadata": {},
   "outputs": [],
   "source": [
    "# Tokenization\n",
    "# Senteence --> paragraph\n",
    "\n",
    "from nltk.tokenize import sent_tokenize"
   ]
  },
  {
   "cell_type": "code",
   "execution_count": 6,
   "id": "db1e1dca",
   "metadata": {},
   "outputs": [
    {
     "data": {
      "text/plain": [
       "['he future of data science will revolutionize industries with AI and machine learning, driving innovation, efficiency, and better decision-making across various sectors.']"
      ]
     },
     "execution_count": 6,
     "metadata": {},
     "output_type": "execute_result"
    }
   ],
   "source": [
    "documents = sent_tokenize(corpus)\n",
    "documents"
   ]
  },
  {
   "cell_type": "code",
   "execution_count": 7,
   "id": "e9695914",
   "metadata": {},
   "outputs": [
    {
     "data": {
      "text/plain": [
       "list"
      ]
     },
     "execution_count": 7,
     "metadata": {},
     "output_type": "execute_result"
    }
   ],
   "source": [
    "type(documents)"
   ]
  },
  {
   "cell_type": "code",
   "execution_count": 8,
   "id": "d9fb7fde",
   "metadata": {},
   "outputs": [
    {
     "name": "stdout",
     "output_type": "stream",
     "text": [
      "he future of data science will revolutionize industries with AI and machine learning, driving innovation, efficiency, and better decision-making across various sectors.\n"
     ]
    }
   ],
   "source": [
    "for sentences in documents:\n",
    "    print(sentences)"
   ]
  },
  {
   "cell_type": "code",
   "execution_count": 9,
   "id": "e8e624b3",
   "metadata": {},
   "outputs": [],
   "source": [
    "# Tokenization\n",
    "# Paragraph ---> words\n",
    "# Sentence ----> words\n",
    "from nltk.tokenize import word_tokenize"
   ]
  },
  {
   "cell_type": "code",
   "execution_count": 10,
   "id": "867f3507",
   "metadata": {},
   "outputs": [
    {
     "data": {
      "text/plain": [
       "['he',\n",
       " 'future',\n",
       " 'of',\n",
       " 'data',\n",
       " 'science',\n",
       " 'will',\n",
       " 'revolutionize',\n",
       " 'industries',\n",
       " 'with',\n",
       " 'AI',\n",
       " 'and',\n",
       " 'machine',\n",
       " 'learning',\n",
       " ',',\n",
       " 'driving',\n",
       " 'innovation',\n",
       " ',',\n",
       " 'efficiency',\n",
       " ',',\n",
       " 'and',\n",
       " 'better',\n",
       " 'decision-making',\n",
       " 'across',\n",
       " 'various',\n",
       " 'sectors',\n",
       " '.']"
      ]
     },
     "execution_count": 10,
     "metadata": {},
     "output_type": "execute_result"
    }
   ],
   "source": [
    "word_tokenize(corpus)"
   ]
  },
  {
   "cell_type": "code",
   "execution_count": 11,
   "id": "1bd02ee5",
   "metadata": {},
   "outputs": [
    {
     "name": "stdout",
     "output_type": "stream",
     "text": [
      "['he', 'future', 'of', 'data', 'science', 'will', 'revolutionize', 'industries', 'with', 'AI', 'and', 'machine', 'learning', ',', 'driving', 'innovation', ',', 'efficiency', ',', 'and', 'better', 'decision-making', 'across', 'various', 'sectors', '.']\n"
     ]
    }
   ],
   "source": [
    "for sentence in documents:\n",
    "    print(word_tokenize(sentence))"
   ]
  },
  {
   "cell_type": "code",
   "execution_count": 12,
   "id": "6b362437",
   "metadata": {},
   "outputs": [],
   "source": [
    "from nltk.tokenize import wordpunct_tokenize\n"
   ]
  },
  {
   "cell_type": "code",
   "execution_count": 13,
   "id": "2366384b",
   "metadata": {},
   "outputs": [
    {
     "data": {
      "text/plain": [
       "['he',\n",
       " 'future',\n",
       " 'of',\n",
       " 'data',\n",
       " 'science',\n",
       " 'will',\n",
       " 'revolutionize',\n",
       " 'industries',\n",
       " 'with',\n",
       " 'AI',\n",
       " 'and',\n",
       " 'machine',\n",
       " 'learning',\n",
       " ',',\n",
       " 'driving',\n",
       " 'innovation',\n",
       " ',',\n",
       " 'efficiency',\n",
       " ',',\n",
       " 'and',\n",
       " 'better',\n",
       " 'decision',\n",
       " '-',\n",
       " 'making',\n",
       " 'across',\n",
       " 'various',\n",
       " 'sectors',\n",
       " '.']"
      ]
     },
     "execution_count": 13,
     "metadata": {},
     "output_type": "execute_result"
    }
   ],
   "source": [
    "wordpunct_tokenize(corpus)\n"
   ]
  },
  {
   "cell_type": "code",
   "execution_count": 14,
   "id": "bb623c8c",
   "metadata": {},
   "outputs": [],
   "source": [
    "from nltk.tokenize import TreebankWordTokenizer"
   ]
  },
  {
   "cell_type": "code",
   "execution_count": 15,
   "id": "3bca066f",
   "metadata": {},
   "outputs": [],
   "source": [
    "tokenizer=TreebankWordTokenizer()\n"
   ]
  },
  {
   "cell_type": "code",
   "execution_count": 16,
   "id": "462ccd49",
   "metadata": {},
   "outputs": [
    {
     "data": {
      "text/plain": [
       "['he',\n",
       " 'future',\n",
       " 'of',\n",
       " 'data',\n",
       " 'science',\n",
       " 'will',\n",
       " 'revolutionize',\n",
       " 'industries',\n",
       " 'with',\n",
       " 'AI',\n",
       " 'and',\n",
       " 'machine',\n",
       " 'learning',\n",
       " ',',\n",
       " 'driving',\n",
       " 'innovation',\n",
       " ',',\n",
       " 'efficiency',\n",
       " ',',\n",
       " 'and',\n",
       " 'better',\n",
       " 'decision-making',\n",
       " 'across',\n",
       " 'various',\n",
       " 'sectors',\n",
       " '.']"
      ]
     },
     "execution_count": 16,
     "metadata": {},
     "output_type": "execute_result"
    }
   ],
   "source": [
    "tokenizer.tokenize(corpus)\n"
   ]
  }
 ],
 "metadata": {
  "kernelspec": {
   "display_name": "Python 3 (ipykernel)",
   "language": "python",
   "name": "python3"
  },
  "language_info": {
   "codemirror_mode": {
    "name": "ipython",
    "version": 3
   },
   "file_extension": ".py",
   "mimetype": "text/x-python",
   "name": "python",
   "nbconvert_exporter": "python",
   "pygments_lexer": "ipython3",
   "version": "3.9.12"
  }
 },
 "nbformat": 4,
 "nbformat_minor": 5
}
